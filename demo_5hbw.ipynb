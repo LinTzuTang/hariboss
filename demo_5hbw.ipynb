{
 "cells": [
  {
   "cell_type": "markdown",
   "id": "8e71d51c-63b9-4281-95d5-e8c4f1c09344",
   "metadata": {},
   "source": [
    "# Demo hariboss process using '5hbw' (a case with  non-standard residue)"
   ]
  },
  {
   "cell_type": "markdown",
   "id": "10db5eed-c25a-4067-9ed8-e7b3be1dc38d",
   "metadata": {},
   "source": [
    "## parameter settings"
   ]
  },
  {
   "cell_type": "code",
   "execution_count": 1,
   "id": "e155599d-0d43-4c8f-9e9e-be19c5720f78",
   "metadata": {
    "tags": []
   },
   "outputs": [],
   "source": [
    "import sys\n",
    "\n",
    "sys.path.append(\"..\")\n",
    "from download_mmcif import MmcifDownloader\n",
    "from rlclip.preprocessor import DatasetGenerator"
   ]
  },
  {
   "cell_type": "markdown",
   "id": "5bcdf817-c6b8-4fae-b89e-3147663ec3cc",
   "metadata": {},
   "source": [
    "## 1. Download cif files by MmcifDownloader"
   ]
  },
  {
   "cell_type": "code",
   "execution_count": 2,
   "id": "3633bb7f",
   "metadata": {},
   "outputs": [],
   "source": [
    "pdb_list = [\"5hbw\"]\n",
    "hariboss_file = \"hariboss_clean.csv\"\n",
    "mmcif_path = \"complex_database/complexes_mmcif\""
   ]
  },
  {
   "cell_type": "code",
   "execution_count": 3,
   "id": "18a48828-d4cb-4cb0-87e7-625affe074ce",
   "metadata": {
    "collapsed": true,
    "jupyter": {
     "outputs_hidden": true
    },
    "tags": []
   },
   "outputs": [
    {
     "name": "stderr",
     "output_type": "stream",
     "text": [
      "Fetching PDBs:   0%|          | 0/1 [00:00<?, ?file/s]"
     ]
    },
    {
     "name": "stdout",
     "output_type": "stream",
     "text": [
      "Downloading PDB structure '5hbw'...\n"
     ]
    },
    {
     "name": "stderr",
     "output_type": "stream",
     "text": [
      "Fetching PDBs: 100%|██████████| 1/1 [00:00<00:00,  2.20file/s]\n"
     ]
    },
    {
     "name": "stdout",
     "output_type": "stream",
     "text": [
      "1 PDBs downloaded successfully.\n"
     ]
    }
   ],
   "source": [
    "mmcifdownloader = MmcifDownloader(\n",
    "    csv_file=hariboss_file,\n",
    "    output_dir=mmcif_path,\n",
    "    # num_pdb=5,\n",
    "    pdb_id_list=pdb_list,\n",
    ")\n",
    "mmcifdownloader.clean_output_files()\n",
    "mmcifdownloader.download_mmcif()"
   ]
  },
  {
   "cell_type": "markdown",
   "id": "00aec819-5311-4a28-b0ca-2a4c8b10a30d",
   "metadata": {},
   "source": [
    "## 2. RNA Ligands split and RNA3DB praser by DatasetGenerator"
   ]
  },
  {
   "cell_type": "code",
   "execution_count": 4,
   "id": "72cfb078",
   "metadata": {},
   "outputs": [],
   "source": [
    "hariboss_path = \"./hariboss_clean.csv\"\n",
    "result_path = \"./example_result_rna3db_5hbw\"\n",
    "mmcif_path = \"./complex_database/complexes_mmcif\"\n",
    "contact_threshold = 10\n",
    "filter_rna_length = 5\n",
    "fp_type_list = [\"fp2\", \"morgan\"]\n",
    "molecule_filter_list = [\"HOH\"]\n",
    "use_rna3db = True\n",
    "save_file = \"cif\"  # format to save the extracted RNA chain ('cif' or 'pdb"
   ]
  },
  {
   "cell_type": "code",
   "execution_count": 5,
   "id": "1c4e3eb4-0514-4e63-a89f-b82e423179fa",
   "metadata": {
    "collapsed": true,
    "jupyter": {
     "outputs_hidden": true
    },
    "tags": []
   },
   "outputs": [
    {
     "name": "stderr",
     "output_type": "stream",
     "text": [
      "Generating Dataset:   0%|          | 0/2 [00:00<?, ?it/s]@> WARNING Could not find _atom_site_anisotrop in lines.\n",
      "2024-07-01 21:34:20,530|WARNING|WARNING Could not find _atom_site_anisotrop in lines.\n",
      "@> WARNING No anisotropic B factors found\n",
      "2024-07-01 21:34:20,544|WARNING|WARNING No anisotropic B factors found\n",
      "@> 359 atoms and 1 coordinate set(s) were parsed in 0.21s.\n",
      "2024-07-01 21:34:20,549|DEBUG|359 atoms and 1 coordinate set(s) were parsed in 0.21s.\n",
      "Generating Dataset:  50%|█████     | 1/2 [00:06<00:06,  6.20s/it]@> WARNING Could not find _atom_site_anisotrop in lines.\n",
      "2024-07-01 21:34:26,923|WARNING|WARNING Could not find _atom_site_anisotrop in lines.\n",
      "@> WARNING No anisotropic B factors found\n",
      "2024-07-01 21:34:26,927|WARNING|WARNING No anisotropic B factors found\n",
      "@> 359 atoms and 1 coordinate set(s) were parsed in 0.03s.\n",
      "2024-07-01 21:34:26,928|DEBUG|359 atoms and 1 coordinate set(s) were parsed in 0.03s.\n",
      "Generating Dataset: 100%|██████████| 2/2 [00:18<00:00,  9.16s/it]\n"
     ]
    }
   ],
   "source": [
    "dg = DatasetGenerator(\n",
    "    dataset_path=hariboss_path,\n",
    "    result_path=result_path,\n",
    "    mmcif_path=mmcif_path,\n",
    "    contact_threshold=contact_threshold,\n",
    "    filter_rna_length=filter_rna_length,\n",
    "    molecule_filter_list=molecule_filter_list,\n",
    "    fp_type_list=fp_type_list,\n",
    "    use_rna3db=use_rna3db,\n",
    "    save_file=save_file,\n",
    ")\n",
    "dg.clean_result_path()\n",
    "dg.select_pdb(pdb_list)\n",
    "dg.generate_dataset()"
   ]
  },
  {
   "cell_type": "markdown",
   "id": "b4ce49fc-d377-4bf5-9019-d49b56dc777f",
   "metadata": {},
   "source": [
    "# Finished !"
   ]
  },
  {
   "cell_type": "markdown",
   "id": "81c35909-6801-4f2f-99a0-0111f3e6e3f9",
   "metadata": {},
   "source": [
    "\n",
    "## 3. Reset some parameters to get 'example_result' of not using RNA3DB (original code)"
   ]
  },
  {
   "cell_type": "code",
   "execution_count": 6,
   "id": "266344ee-c2d5-48c1-ae37-563ac44888cc",
   "metadata": {
    "tags": []
   },
   "outputs": [],
   "source": [
    "result_path = \"./example_result_without_rna3db_5hbw\"\n",
    "use_rna3db = False"
   ]
  },
  {
   "cell_type": "code",
   "execution_count": 7,
   "id": "bd265988-f098-4e6b-8e24-f13667d23a6b",
   "metadata": {
    "collapsed": true,
    "jupyter": {
     "outputs_hidden": true
    },
    "tags": []
   },
   "outputs": [
    {
     "name": "stderr",
     "output_type": "stream",
     "text": [
      "Generating Dataset:   0%|          | 0/2 [00:00<?, ?it/s]@> WARNING Could not find _atom_site_anisotrop in lines.\n",
      "2024-07-01 21:35:31,006|WARNING|WARNING Could not find _atom_site_anisotrop in lines.\n",
      "@> WARNING No anisotropic B factors found\n",
      "2024-07-01 21:35:31,008|WARNING|WARNING No anisotropic B factors found\n",
      "@> 359 atoms and 1 coordinate set(s) were parsed in 0.01s.\n",
      "2024-07-01 21:35:31,010|DEBUG|359 atoms and 1 coordinate set(s) were parsed in 0.01s.\n",
      "/blue/yanjun.li/tzutang.lin/RL-CLIP-dev/hariboss_process/../rlclip/preprocessor/dataset_generator.py:654: FutureWarning: The frame.append method is deprecated and will be removed from pandas in a future version. Use pandas.concat instead.\n",
      "  self.short_rna_length_data = self.short_rna_length_data.append(\n",
      "Generating Dataset:  50%|█████     | 1/2 [00:00<00:00,  6.69it/s]@> WARNING Could not find _atom_site_anisotrop in lines.\n",
      "2024-07-01 21:35:31,092|WARNING|WARNING Could not find _atom_site_anisotrop in lines.\n",
      "@> WARNING No anisotropic B factors found\n",
      "2024-07-01 21:35:31,093|WARNING|WARNING No anisotropic B factors found\n",
      "@> 359 atoms and 1 coordinate set(s) were parsed in 0.01s.\n",
      "2024-07-01 21:35:31,094|DEBUG|359 atoms and 1 coordinate set(s) were parsed in 0.01s.\n",
      "/blue/yanjun.li/tzutang.lin/RL-CLIP-dev/hariboss_process/../rlclip/preprocessor/dataset_generator.py:654: FutureWarning: The frame.append method is deprecated and will be removed from pandas in a future version. Use pandas.concat instead.\n",
      "  self.short_rna_length_data = self.short_rna_length_data.append(\n",
      "Generating Dataset: 100%|██████████| 2/2 [00:00<00:00, 10.74it/s]\n"
     ]
    }
   ],
   "source": [
    "dg = DatasetGenerator(\n",
    "    dataset_path=hariboss_path,\n",
    "    result_path=result_path,\n",
    "    mmcif_path=mmcif_path,\n",
    "    contact_threshold=contact_threshold,\n",
    "    filter_rna_length=filter_rna_length,\n",
    "    molecule_filter_list=molecule_filter_list,\n",
    "    fp_type_list=fp_type_list,\n",
    "    use_rna3db=use_rna3db,\n",
    "    save_file=save_file,\n",
    ")\n",
    "dg.clean_result_path()\n",
    "dg.select_pdb(pdb_list)\n",
    "dg.generate_dataset()"
   ]
  },
  {
   "cell_type": "markdown",
   "id": "4ff506b7-b98f-444c-8432-89ac8a3b9ce5",
   "metadata": {
    "tags": []
   },
   "source": [
    "### Compare the rsults in \"./example_result_without_rna3db_5hbw\" and \"./example_result_rna3db_5hbw\""
   ]
  }
 ],
 "metadata": {
  "kernelspec": {
   "display_name": "Python 3 (ipykernel)",
   "language": "python",
   "name": "python3"
  },
  "language_info": {
   "codemirror_mode": {
    "name": "ipython",
    "version": 3
   },
   "file_extension": ".py",
   "mimetype": "text/x-python",
   "name": "python",
   "nbconvert_exporter": "python",
   "pygments_lexer": "ipython3",
   "version": "3.10.12"
  }
 },
 "nbformat": 4,
 "nbformat_minor": 5
}
